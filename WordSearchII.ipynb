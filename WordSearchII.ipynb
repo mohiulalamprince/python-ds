{
 "cells": [
  {
   "cell_type": "code",
   "execution_count": 1,
   "metadata": {},
   "outputs": [
    {
     "name": "stdout",
     "output_type": "stream",
     "text": [
      "Word Search II\n"
     ]
    }
   ],
   "source": [
    "print (\"Word Search II\")"
   ]
  },
  {
   "cell_type": "code",
   "execution_count": 113,
   "metadata": {},
   "outputs": [],
   "source": [
    "from typing import List\n",
    "\n",
    "def findWords(board: List[List[str]], words: List[str]) -> List[str]:\n",
    "    WORD_KEY = '$'\n",
    "\n",
    "    trie = {}\n",
    "    for word in words:\n",
    "        node = trie\n",
    "        for letter in word:\n",
    "            node = node.setdefault(letter, {})\n",
    "        node[WORD_KEY] = word\n",
    "\n",
    "    row = len(board)\n",
    "    col = len(board[0])\n",
    "\n",
    "    match_words = []\n",
    "    def dfs(x, y, tree):\n",
    "        letter = board[x][y]\n",
    "        current_node = tree[letter]\n",
    "\n",
    "        match_word = current_node.pop(WORD_KEY, False)\n",
    "        if match_word:\n",
    "            match_words.append(match_word)\n",
    "\n",
    "        board[x][y] = '@'\n",
    "        \n",
    "        for r1, c1 in [(0, 1), (1, 0), (-1, 0), (0, -1)]:\n",
    "            nr, nc = r1 + x, c1 + y\n",
    "            \n",
    "            if nr < 0 or nr >= row or nc < 0 or nc >= col:\n",
    "                continue\n",
    "            if board[nr][nc] not in current_node:\n",
    "                continue\n",
    "                \n",
    "            dfs(nr, nc, current_node)\n",
    "\n",
    "        board[x][y] = letter\n",
    "\n",
    "        if not current_node:\n",
    "            tree.pop(letter)\n",
    "\n",
    "    for x in range(row):\n",
    "        for y in range(col):\n",
    "            if board[x][y] in trie:\n",
    "                dfs(x, y, trie)\n",
    "            \n",
    "    return match_words"
   ]
  },
  {
   "cell_type": "code",
   "execution_count": 114,
   "metadata": {},
   "outputs": [
    {
     "data": {
      "text/plain": [
       "['oath', 'eat']"
      ]
     },
     "execution_count": 114,
     "metadata": {},
     "output_type": "execute_result"
    }
   ],
   "source": [
    "findWords([\n",
    "  ['o','a','a','n'],\n",
    "  ['e','t','a','e'],\n",
    "  ['i','h','k','r'],\n",
    "  ['i','f','l','v']\n",
    "], [\"oath\",\"pea\",\"eat\",\"rain\"])"
   ]
  },
  {
   "cell_type": "code",
   "execution_count": null,
   "metadata": {},
   "outputs": [],
   "source": []
  }
 ],
 "metadata": {
  "kernelspec": {
   "display_name": "Python 3",
   "language": "python",
   "name": "python3"
  },
  "language_info": {
   "codemirror_mode": {
    "name": "ipython",
    "version": 3
   },
   "file_extension": ".py",
   "mimetype": "text/x-python",
   "name": "python",
   "nbconvert_exporter": "python",
   "pygments_lexer": "ipython3",
   "version": "3.7.6"
  }
 },
 "nbformat": 4,
 "nbformat_minor": 4
}
