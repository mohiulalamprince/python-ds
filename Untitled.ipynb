{
 "cells": [
  {
   "cell_type": "code",
   "execution_count": 6,
   "metadata": {},
   "outputs": [],
   "source": [
    "def compareVersion(A, B):\n",
    "    parts = A.split(\".\")\n",
    "    As = []\n",
    "    for part in parts:\n",
    "        As.append(str(int(part)))\n",
    "\n",
    "    A = \".\".join(As)\n",
    "\n",
    "    parts = B.split(\".\")\n",
    "    Bs = []\n",
    "    for part in parts:\n",
    "        Bs.append(str(int(part)))\n",
    "\n",
    "    B = \".\".join(Bs)\n",
    "    \n",
    "    print (A, B)\n",
    "\n",
    "    if A > B: return 1\n",
    "    elif A < B: return -1\n",
    "    else: return 0"
   ]
  },
  {
   "cell_type": "code",
   "execution_count": 7,
   "metadata": {},
   "outputs": [
    {
     "name": "stdout",
     "output_type": "stream",
     "text": [
      "13.0 13.0.8\n",
      "-1\n"
     ]
    }
   ],
   "source": [
    "print (compareVersion(\"13.0\", \"13.0.8\"))"
   ]
  },
  {
   "cell_type": "code",
   "execution_count": 16,
   "metadata": {},
   "outputs": [
    {
     "name": "stdout",
     "output_type": "stream",
     "text": [
      "2147483647\n"
     ]
    }
   ],
   "source": [
    "print (2**31-1) "
   ]
  },
  {
   "cell_type": "code",
   "execution_count": 71,
   "metadata": {},
   "outputs": [
    {
     "data": {
      "text/plain": [
       "45"
      ]
     },
     "execution_count": 71,
     "metadata": {},
     "output_type": "execute_result"
    }
   ],
   "source": [
    "ord('-')"
   ]
  },
  {
   "cell_type": "code",
   "execution_count": 134,
   "metadata": {},
   "outputs": [],
   "source": [
    "def atoi(A):\n",
    "    i = 0\n",
    "    N = len(A)\n",
    "    while i < N and (ord(A[i]) < 48 or ord(A[i]) > 57) and A[i] != '-': i += 1\n",
    "    \n",
    "    start_index = i\n",
    "    i = N -1\n",
    "    while i >= 0 and (ord(A[i]) < 48 or ord(A[i]) > 57) and A[i] != '-': i -= 1\n",
    "    end_index = i\n",
    "    \n",
    "    for i in range(start_index, end_index + 1):\n",
    "        if (ord(A[i]) < 48 or ord(A[i]) > 57) and A[i] != '-': \n",
    "            if i > 0 and A[i-1] == '-': return 0\n",
    "            end_index = i-1\n",
    "            break\n",
    "    result = A[start_index: end_index + 1]\n",
    "    print (start_index, end_index, result)\n",
    "\n",
    "    if result == \"\": return 0\n",
    "    if int(result) > (2147483647): return 2**31-1\n",
    "    if int(result) < (-2147483648): return -2147483648\n",
    "    \n",
    "    return int(result)\n",
    "    \n",
    "    "
   ]
  },
  {
   "cell_type": "code",
   "execution_count": 135,
   "metadata": {},
   "outputs": [
    {
     "name": "stdout",
     "output_type": "stream",
     "text": [
      "0 5 -07041\n",
      "-7041\n"
     ]
    }
   ],
   "source": [
    "print (atoi(\"-07041 6784513221729 1128 43144\"))"
   ]
  },
  {
   "cell_type": "code",
   "execution_count": 29,
   "metadata": {},
   "outputs": [
    {
     "data": {
      "text/plain": [
       "65"
      ]
     },
     "execution_count": 29,
     "metadata": {},
     "output_type": "execute_result"
    }
   ],
   "source": [
    "('A')"
   ]
  },
  {
   "cell_type": "code",
   "execution_count": 103,
   "metadata": {},
   "outputs": [
    {
     "name": "stdout",
     "output_type": "stream",
     "text": [
      "yes 2147483647 7\n"
     ]
    }
   ],
   "source": [
    "result = \"7\"\n",
    "int_max = str(int(2**31-1))\n",
    "if result > int_max: print (\"yes\", int_max, result)"
   ]
  },
  {
   "cell_type": "code",
   "execution_count": 136,
   "metadata": {},
   "outputs": [
    {
     "name": "stdout",
     "output_type": "stream",
     "text": [
      "hello world\n"
     ]
    }
   ],
   "source": [
    "print (\"hello world\")"
   ]
  },
  {
   "cell_type": "code",
   "execution_count": null,
   "metadata": {},
   "outputs": [],
   "source": []
  }
 ],
 "metadata": {
  "kernelspec": {
   "display_name": "Python 3",
   "language": "python",
   "name": "python3"
  },
  "language_info": {
   "codemirror_mode": {
    "name": "ipython",
    "version": 3
   },
   "file_extension": ".py",
   "mimetype": "text/x-python",
   "name": "python",
   "nbconvert_exporter": "python",
   "pygments_lexer": "ipython3",
   "version": "3.7.4"
  }
 },
 "nbformat": 4,
 "nbformat_minor": 2
}
