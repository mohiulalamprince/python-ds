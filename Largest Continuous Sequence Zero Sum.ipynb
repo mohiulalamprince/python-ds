{
 "cells": [
  {
   "cell_type": "code",
   "execution_count": 107,
   "metadata": {},
   "outputs": [],
   "source": [
    "class Solution:\n",
    "    result = []\n",
    "    def lszero(self, A):        \n",
    "        self.result = []\n",
    "        sumA = []\n",
    "        sum = 0\n",
    "        \n",
    "        for x in A:\n",
    "            sum += x\n",
    "            sumA.append(sum)\n",
    "        \n",
    "        for i in range(len(A)):\n",
    "            for j in range(i, len(A)):\n",
    "                self.update_result(i, j, A, sumA)\n",
    "        return self.result\n",
    "                    \n",
    "    def update_result(self, i, j, A, sumA):\n",
    "        if i - 1 == -1 and sumA[j] == 0 and len(self.result) < (j - i + 1):\n",
    "            self.result = A[:j+1]\n",
    "        elif i - 1 != -1 and sumA[j] == sumA[i-1] and len(self.result) < (j - i + 1):\n",
    "            self.result = A[i: j + 1]"
   ]
  },
  {
   "cell_type": "code",
   "execution_count": 110,
   "metadata": {},
   "outputs": [
    {
     "data": {
      "text/plain": [
       "[2, -2, -4, 2, 2]"
      ]
     },
     "execution_count": 110,
     "metadata": {},
     "output_type": "execute_result"
    }
   ],
   "source": [
    "solution = Solution()\n",
    "solution.lszero([ 2, -2, -4, 2, 2 ])\n",
    "#solution.lszero([0])"
   ]
  },
  {
   "cell_type": "code",
   "execution_count": null,
   "metadata": {},
   "outputs": [],
   "source": []
  },
  {
   "cell_type": "code",
   "execution_count": null,
   "metadata": {},
   "outputs": [],
   "source": []
  }
 ],
 "metadata": {
  "kernelspec": {
   "display_name": "Python 3",
   "language": "python",
   "name": "python3"
  },
  "language_info": {
   "codemirror_mode": {
    "name": "ipython",
    "version": 3
   },
   "file_extension": ".py",
   "mimetype": "text/x-python",
   "name": "python",
   "nbconvert_exporter": "python",
   "pygments_lexer": "ipython3",
   "version": "3.7.6"
  }
 },
 "nbformat": 4,
 "nbformat_minor": 4
}
