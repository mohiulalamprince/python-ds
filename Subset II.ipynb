{
 "cells": [
  {
   "cell_type": "code",
   "execution_count": 48,
   "metadata": {},
   "outputs": [],
   "source": [
    "class Solution:\n",
    "    \n",
    "    result = []\n",
    "    A = []\n",
    "    N = 0\n",
    "    visit = {}\n",
    "    \n",
    "    # @param A : list of integers\n",
    "    # @return a list of list of integers\n",
    "    def subsetsWithDup(self, A):\n",
    "        self.result = []\n",
    "        self.A = []\n",
    "        self.visit = {}\n",
    "        self.A = sorted(A, key=lambda x:x, reverse=False)\n",
    "        self.N = len(A)\n",
    "        self.dfs(0, [], \"\")\n",
    "        return self.result\n",
    "        \n",
    "    def dfs(self, index, copy, sumStr):\n",
    "        if self.visit.get(sumStr) == True: return\n",
    "        \n",
    "        self.result.append(copy[:])\n",
    "        if index >= self.N: return\n",
    "\n",
    "        self.visit[(sumStr)] = True\n",
    "        \n",
    "        for i in range(index, self.N):\n",
    "            copy.append(self.A[i])\n",
    "            self.dfs(i + 1, copy, sumStr + str(self.A[i]))\n",
    "            del copy[-1]\n",
    "            self.dfs(i + 1, copy, sumStr)"
   ]
  },
  {
   "cell_type": "code",
   "execution_count": 49,
   "metadata": {},
   "outputs": [
    {
     "name": "stdout",
     "output_type": "stream",
     "text": [
      "[[], [1], [1, 2], [1, 2, 2], [2], [2, 2]]\n"
     ]
    }
   ],
   "source": [
    "solution = Solution()\n",
    "solution.subsetsWithDup([1, 2, 2])\n",
    "print (solution.result)"
   ]
  },
  {
   "cell_type": "code",
   "execution_count": null,
   "metadata": {},
   "outputs": [],
   "source": []
  }
 ],
 "metadata": {
  "kernelspec": {
   "display_name": "Python 3",
   "language": "python",
   "name": "python3"
  },
  "language_info": {
   "codemirror_mode": {
    "name": "ipython",
    "version": 3
   },
   "file_extension": ".py",
   "mimetype": "text/x-python",
   "name": "python",
   "nbconvert_exporter": "python",
   "pygments_lexer": "ipython3",
   "version": "3.7.4"
  }
 },
 "nbformat": 4,
 "nbformat_minor": 2
}
