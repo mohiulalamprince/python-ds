{
 "cells": [
  {
   "cell_type": "code",
   "execution_count": 1,
   "metadata": {},
   "outputs": [
    {
     "name": "stdout",
     "output_type": "stream",
     "text": [
      "hello world\n"
     ]
    }
   ],
   "source": [
    "print(\"hello world\")"
   ]
  },
  {
   "cell_type": "code",
   "execution_count": 31,
   "metadata": {},
   "outputs": [],
   "source": [
    "def findLadders(beginWord, endWord, wordList):\n",
    "    import collections\n",
    "    import copy\n",
    "    if beginWord == endWord:\n",
    "        return [beginWord]\n",
    "\n",
    "    graph = collections.defaultdict(set)\n",
    "    unique_word_list = set(wordList)\n",
    "        \n",
    "    unique_word_list.discard(beginWord)\n",
    "    atoz = \"abcdefghijklmnopqrstuvwxyz\"\n",
    "    \n",
    "    gen_list = set([beginWord])\n",
    "    \n",
    "    finished = False\n",
    "    while len(gen_list) > 0 and finished is not True:\n",
    "        new_gen_list = set()\n",
    "        for word in gen_list:\n",
    "            for i in range(len(word)):\n",
    "                for c in atoz:\n",
    "                    new_word = word[:i] + c + word[i+1:]\n",
    "                    \n",
    "                    if new_word in unique_word_list:\n",
    "                        graph[word].add(new_word)\n",
    "                        new_gen_list.add(new_word)\n",
    "                    \n",
    "                if endWord == new_word:\n",
    "                    finished = True\n",
    "        unique_word_list -= new_gen_list\n",
    "        gen_list = new_gen_list\n",
    "\n",
    "\n",
    "    result = []\n",
    "    path = [beginWord]\n",
    "    def dfs(word):\n",
    "        if (word == endWord):\n",
    "            result.append(copy.copy(path))\n",
    "        else:\n",
    "            for next_child in graph[word]:\n",
    "                path.append(next_child)\n",
    "                dfs(next_child)\n",
    "                path.pop()\n",
    "    dfs(beginWord)\n",
    "    return result\n"
   ]
  },
  {
   "cell_type": "code",
   "execution_count": 32,
   "metadata": {},
   "outputs": [
    {
     "name": "stdout",
     "output_type": "stream",
     "text": [
      "[['hit', 'hot', 'lot', 'log', 'cog'], ['hit', 'hot', 'dot', 'dog', 'cog']]\n"
     ]
    }
   ],
   "source": [
    "print (findLadders(\"hit\", \"cog\", [\"hot\",\"dot\",\"dog\",\"lot\",\"log\",\"cog\"]))"
   ]
  },
  {
   "cell_type": "code",
   "execution_count": null,
   "metadata": {},
   "outputs": [],
   "source": []
  }
 ],
 "metadata": {
  "kernelspec": {
   "display_name": "Python 3",
   "language": "python",
   "name": "python3"
  },
  "language_info": {
   "codemirror_mode": {
    "name": "ipython",
    "version": 3
   },
   "file_extension": ".py",
   "mimetype": "text/x-python",
   "name": "python",
   "nbconvert_exporter": "python",
   "pygments_lexer": "ipython3",
   "version": "3.7.6"
  }
 },
 "nbformat": 4,
 "nbformat_minor": 4
}
