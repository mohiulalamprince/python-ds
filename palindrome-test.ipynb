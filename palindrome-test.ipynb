{
 "cells": [
  {
   "cell_type": "code",
   "execution_count": 1,
   "metadata": {},
   "outputs": [
    {
     "data": {
      "text/plain": [
       "'anamap'"
      ]
     },
     "execution_count": 1,
     "metadata": {},
     "output_type": "execute_result"
    }
   ],
   "source": [
    "str = \"pamana\"\n",
    "str[::-1]"
   ]
  },
  {
   "cell_type": "code",
   "execution_count": 4,
   "metadata": {},
   "outputs": [
    {
     "name": "stdout",
     "output_type": "stream",
     "text": [
      "p\n",
      "a\n",
      "m\n",
      "a\n",
      "n\n",
      "a\n"
     ]
    }
   ],
   "source": [
    "for x in str:\n",
    "    if x.isalnum():\n",
    "        print (x)"
   ]
  },
  {
   "cell_type": "code",
   "execution_count": 8,
   "metadata": {},
   "outputs": [
    {
     "name": "stdout",
     "output_type": "stream",
     "text": [
      "[2, 4, 5, 15, 45]\n",
      "2\n",
      "[4, 15, 5, 45]\n",
      "4\n",
      "[4, 15, 5, 45]\n",
      "1\n",
      "[1, 15, 4, 45]\n"
     ]
    }
   ],
   "source": [
    "from heapq import heappush, heappop, heapify  \n",
    "  \n",
    "class MinHeap: \n",
    "      \n",
    "    # Constructor to initialize a heap \n",
    "    def __init__(self): \n",
    "        self.heap = []  \n",
    "  \n",
    "    def parent(self, i): \n",
    "        return int((i-1)/2)\n",
    "      \n",
    "    # Inserts a new key 'k' \n",
    "    def insertKey(self, k): \n",
    "        heappush(self.heap, k)            \n",
    "  \n",
    "    # Decrease value of key at index 'i' to new_val \n",
    "    # It is assumed that new_val is smaller than heap[i] \n",
    "    def decreaseKey(self, i, new_val): \n",
    "        self.heap[i]  = new_val  \n",
    "        while(i != 0 and self.heap[self.parent(i)] > self.heap[i]): \n",
    "            # Swap heap[i] with heap[parent(i)] \n",
    "            self.heap[i] , self.heap[self.parent(i)] = ( \n",
    "            self.heap[self.parent(i)], self.heap[i]) \n",
    "              \n",
    "    # Method to remove minium element from min heap \n",
    "    def extractMin(self): \n",
    "        return heappop(self.heap) \n",
    "  \n",
    "    # This functon deletes key at index i. It first reduces \n",
    "    # value to minus infinite and then calls extractMin() \n",
    "    def deleteKey(self, i): \n",
    "        self.decreaseKey(i, float(\"-inf\")) \n",
    "        self.extractMin() \n",
    "  \n",
    "    # Get the minimum element from the heap \n",
    "    def getMin(self): \n",
    "        return self.heap[0] \n",
    "  \n",
    "# Driver pgoratm to test above function \n",
    "heapObj = MinHeap() \n",
    "heapObj.insertKey(3) \n",
    "heapObj.insertKey(2) \n",
    "heapObj.deleteKey(1) \n",
    "heapObj.insertKey(15) \n",
    "heapObj.insertKey(5) \n",
    "heapObj.insertKey(4) \n",
    "heapObj.insertKey(45) \n",
    "\n",
    "print (heapObj.heap)\n",
    "print (heapObj.extractMin())\n",
    "print (heapObj.heap)\n",
    "\n",
    "print (heapObj.getMin())\n",
    "print (heapObj.heap)\n",
    "\n",
    "heapObj.decreaseKey(2, 1) \n",
    "print (heapObj.getMin())\n",
    "print (heapObj.heap)\n"
   ]
  },
  {
   "cell_type": "code",
   "execution_count": null,
   "metadata": {},
   "outputs": [],
   "source": []
  }
 ],
 "metadata": {
  "kernelspec": {
   "display_name": "Python 3",
   "language": "python",
   "name": "python3"
  },
  "language_info": {
   "codemirror_mode": {
    "name": "ipython",
    "version": 3
   },
   "file_extension": ".py",
   "mimetype": "text/x-python",
   "name": "python",
   "nbconvert_exporter": "python",
   "pygments_lexer": "ipython3",
   "version": "3.7.4"
  }
 },
 "nbformat": 4,
 "nbformat_minor": 2
}
