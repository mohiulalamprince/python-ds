{
 "cells": [
  {
   "cell_type": "code",
   "execution_count": 20,
   "metadata": {},
   "outputs": [],
   "source": [
    "A = 3\n",
    "B = 3\n",
    "\n",
    "table = [[0 for x in range(B)]] * (A)"
   ]
  },
  {
   "cell_type": "code",
   "execution_count": 21,
   "metadata": {},
   "outputs": [
    {
     "data": {
      "text/plain": [
       "[[0, 0, 0], [0, 0, 0], [0, 0, 0]]"
      ]
     },
     "execution_count": 21,
     "metadata": {},
     "output_type": "execute_result"
    }
   ],
   "source": [
    "table"
   ]
  },
  {
   "cell_type": "code",
   "execution_count": 22,
   "metadata": {},
   "outputs": [
    {
     "name": "stdout",
     "output_type": "stream",
     "text": [
      "[1, 1, 1]\n",
      "[1, 0, 0]\n",
      "[1, 0, 0]\n"
     ]
    }
   ],
   "source": [
    "table[0] = [1 for x in range(0, B)]\n",
    "for x in range(0, A):\n",
    "    table[x][0] = 1\n",
    "    \n",
    "for x in table:\n",
    "    print x"
   ]
  },
  {
   "cell_type": "code",
   "execution_count": 26,
   "metadata": {},
   "outputs": [
    {
     "name": "stdout",
     "output_type": "stream",
     "text": [
      "(1, 1)\n",
      "[1, 1, 1]\n",
      "[1, 2, 0]\n",
      "[1, 2, 0]\n",
      "(1, 2)\n",
      "[1, 1, 1]\n",
      "[1, 2, 3]\n",
      "[1, 2, 3]\n",
      "(2, 1)\n",
      "[1, 1, 1]\n",
      "[1, 3, 3]\n",
      "[1, 3, 3]\n",
      "(2, 2)\n",
      "[1, 1, 1]\n",
      "[1, 3, 6]\n",
      "[1, 3, 6]\n"
     ]
    }
   ],
   "source": [
    "for x in range(1, A):\n",
    "    for y in range(1, B):\n",
    "        table[x][y] = table[x-1][y] + table[x][y-1]\n",
    "        print (x, y)\n",
    "        for z in table:\n",
    "            print (z)"
   ]
  },
  {
   "cell_type": "code",
   "execution_count": 27,
   "metadata": {},
   "outputs": [
    {
     "name": "stdout",
     "output_type": "stream",
     "text": [
      "6\n"
     ]
    }
   ],
   "source": [
    "print table[A-1][B-1]"
   ]
  },
  {
   "cell_type": "code",
   "execution_count": 28,
   "metadata": {},
   "outputs": [
    {
     "name": "stdout",
     "output_type": "stream",
     "text": [
      "[1, 1, 1]\n",
      "[1, 3, 6]\n",
      "[1, 3, 6]\n"
     ]
    }
   ],
   "source": [
    "for x in table:\n",
    "    print (x)"
   ]
  },
  {
   "cell_type": "code",
   "execution_count": null,
   "metadata": {},
   "outputs": [],
   "source": []
  },
  {
   "cell_type": "code",
   "execution_count": null,
   "metadata": {},
   "outputs": [],
   "source": []
  }
 ],
 "metadata": {
  "kernelspec": {
   "display_name": "Python 2",
   "language": "python",
   "name": "python2"
  },
  "language_info": {
   "codemirror_mode": {
    "name": "ipython",
    "version": 2
   },
   "file_extension": ".py",
   "mimetype": "text/x-python",
   "name": "python",
   "nbconvert_exporter": "python",
   "pygments_lexer": "ipython2",
   "version": "2.7.17"
  }
 },
 "nbformat": 4,
 "nbformat_minor": 2
}
