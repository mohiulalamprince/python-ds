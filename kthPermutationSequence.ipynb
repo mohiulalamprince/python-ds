{
 "cells": [
  {
   "cell_type": "code",
   "execution_count": 31,
   "metadata": {},
   "outputs": [],
   "source": [
    "import math\n",
    "\n",
    "def getPermutation(n, k):\n",
    "    numbers = list(range(1, n+1))\n",
    "    permutation = ''\n",
    "    k -= 1\n",
    "    while n > 0:\n",
    "        n -= 1\n",
    "        # get the index of current digit\n",
    "        print (\"k=\", k, \"n=\", n)\n",
    "        index, k = divmod(k, math.factorial(n))\n",
    "        print (index, k, numbers[index])\n",
    "        permutation += str(numbers[index])\n",
    "        # remove handled number\n",
    "        numbers.remove(numbers[index])\n",
    "    return permutation"
   ]
  },
  {
   "cell_type": "code",
   "execution_count": 32,
   "metadata": {},
   "outputs": [
    {
     "name": "stdout",
     "output_type": "stream",
     "text": [
      "k= 5 n= 3\n",
      "0 5 1\n",
      "k= 5 n= 2\n",
      "2 1 4\n",
      "k= 1 n= 1\n",
      "1 0 3\n",
      "k= 0 n= 0\n",
      "0 0 2\n"
     ]
    },
    {
     "data": {
      "text/plain": [
       "'1432'"
      ]
     },
     "execution_count": 32,
     "metadata": {},
     "output_type": "execute_result"
    }
   ],
   "source": [
    "getPermutation(4, 6)"
   ]
  },
  {
   "cell_type": "code",
   "execution_count": 34,
   "metadata": {},
   "outputs": [
    {
     "data": {
      "text/plain": [
       "(0, 5)"
      ]
     },
     "execution_count": 34,
     "metadata": {},
     "output_type": "execute_result"
    }
   ],
   "source": [
    "divmod(5, 6)"
   ]
  },
  {
   "cell_type": "code",
   "execution_count": 35,
   "metadata": {},
   "outputs": [
    {
     "data": {
      "text/plain": [
       "(0, 0)"
      ]
     },
     "execution_count": 35,
     "metadata": {},
     "output_type": "execute_result"
    }
   ],
   "source": [
    "divmod(0, 1)"
   ]
  },
  {
   "cell_type": "code",
   "execution_count": null,
   "metadata": {},
   "outputs": [],
   "source": []
  }
 ],
 "metadata": {
  "kernelspec": {
   "display_name": "Python 3",
   "language": "python",
   "name": "python3"
  },
  "language_info": {
   "codemirror_mode": {
    "name": "ipython",
    "version": 3
   },
   "file_extension": ".py",
   "mimetype": "text/x-python",
   "name": "python",
   "nbconvert_exporter": "python",
   "pygments_lexer": "ipython3",
   "version": "3.7.4"
  }
 },
 "nbformat": 4,
 "nbformat_minor": 2
}
