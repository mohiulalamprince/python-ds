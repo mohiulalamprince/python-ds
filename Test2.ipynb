{
 "cells": [
  {
   "cell_type": "code",
   "execution_count": 1,
   "metadata": {},
   "outputs": [
    {
     "name": "stdout",
     "output_type": "stream",
     "text": [
      "hello world\n"
     ]
    }
   ],
   "source": [
    "print (\"hello world\")"
   ]
  },
  {
   "cell_type": "code",
   "execution_count": 10,
   "metadata": {},
   "outputs": [],
   "source": [
    "def binary_search(arr, lo, hi, k):\n",
    "    if lo >= hi: return -1\n",
    "\n",
    "    mid = int((lo + hi) / 2)\n",
    "    if arr[mid] > k: return binary_search(arr, lo, mid, k)\n",
    "    elif arr[mid] < k: return binary_search(arr, mid + 1, hi, k)\n",
    "    else: return mid\n",
    "\n",
    "def findNumber(arr, k):\n",
    "    # Write your code here\n",
    "    sorted(arr, key=lambda x: x, reverse=False)\n",
    "    if binary_search(arr, 0, len(arr), k) == -1: return (\"NO\")\n",
    "    return (\"YES\")"
   ]
  },
  {
   "cell_type": "code",
   "execution_count": 11,
   "metadata": {},
   "outputs": [
    {
     "name": "stdout",
     "output_type": "stream",
     "text": [
      "[1, 2, 5, 4, 3]\n",
      "YES\n"
     ]
    }
   ],
   "source": [
    "print (findNumber([1, 2, 5, 4, 3], 1))"
   ]
  },
  {
   "cell_type": "code",
   "execution_count": 120,
   "metadata": {},
   "outputs": [],
   "source": [
    "#valid ip address\n",
    "\n",
    "def is_valid(ip, start_index, end_index):\n",
    "    value = ip[start_index : end_index]\n",
    "    value = ((value))\n",
    "    if int(value) <= 255: \n",
    "        return value\n",
    "    return -1"
   ]
  },
  {
   "cell_type": "code",
   "execution_count": 121,
   "metadata": {},
   "outputs": [],
   "source": [
    "def valid_ip_address(ip):\n",
    "    ips = []\n",
    "    for i in range(0, 3):\n",
    "        for j in range(0, 3):\n",
    "            for k in range(0, 3):\n",
    "                for l in range(0, 3):\n",
    "                    #if (i + 1 + j + 1 + k + 1 + l + 1 == len(ip)):\n",
    "                        \n",
    "                        s = 0\n",
    "                        e = i + 1\n",
    "                        a = is_valid(ip, s, e)\n",
    "                        \n",
    "                        s = s + i + 1\n",
    "                        e = e + j + 1\n",
    "                        b = is_valid(ip, s, e)\n",
    "                        \n",
    "                        s = s + j + 1\n",
    "                        e = e + k + 1\n",
    "                        c = is_valid(ip, s, e)\n",
    "                        \n",
    "                        s = s + k + 1\n",
    "                        e = e + l + 1\n",
    "                        if (e > len(ip)): e = len(ip)\n",
    "                        d = is_valid(ip, s, e)\n",
    "                        res = [str(int(a)), str(int(b)), str(int(c)), str(int(d))]\n",
    "                        print (res)\n",
    "                        if ( a != -1 and b != -1 and c != -1 and d != -1):\n",
    "                            if (len(str(int(a))) + len(str(int(b))) + len(str(int(c))) + len(str(int(d))) == len(ip)):\n",
    "                                ips.append(res)\n",
    "    return ips"
   ]
  },
  {
   "cell_type": "code",
   "execution_count": 122,
   "metadata": {},
   "outputs": [
    {
     "name": "stdout",
     "output_type": "stream",
     "text": [
      "['2', '5', '5', '2']\n",
      "['2', '5', '5', '25']\n",
      "['2', '5', '5', '255']\n",
      "['2', '5', '52', '5']\n",
      "['2', '5', '52', '55']\n",
      "['2', '5', '52', '-1']\n",
      "['2', '5', '-1', '5']\n",
      "['2', '5', '-1', '51']\n",
      "['2', '5', '-1', '-1']\n",
      "['2', '55', '2', '5']\n",
      "['2', '55', '2', '55']\n",
      "['2', '55', '2', '-1']\n",
      "['2', '55', '25', '5']\n",
      "['2', '55', '25', '51']\n",
      "['2', '55', '25', '-1']\n",
      "['2', '55', '255', '1']\n",
      "['2', '55', '255', '11']\n",
      "['2', '55', '255', '111']\n",
      "['2', '-1', '5', '5']\n",
      "['2', '-1', '5', '51']\n",
      "['2', '-1', '5', '-1']\n",
      "['2', '-1', '55', '1']\n",
      "['2', '-1', '55', '11']\n",
      "['2', '-1', '55', '111']\n",
      "['2', '-1', '-1', '1']\n",
      "['2', '-1', '-1', '11']\n",
      "['2', '-1', '-1', '113']\n",
      "['25', '5', '2', '5']\n",
      "['25', '5', '2', '55']\n",
      "['25', '5', '2', '-1']\n",
      "['25', '5', '25', '5']\n",
      "['25', '5', '25', '51']\n",
      "['25', '5', '25', '-1']\n",
      "['25', '5', '255', '1']\n",
      "['25', '5', '255', '11']\n",
      "['25', '5', '255', '111']\n",
      "['25', '52', '5', '5']\n",
      "['25', '52', '5', '51']\n",
      "['25', '52', '5', '-1']\n",
      "['25', '52', '55', '1']\n",
      "['25', '52', '55', '11']\n",
      "['25', '52', '55', '111']\n",
      "['25', '52', '-1', '1']\n",
      "['25', '52', '-1', '11']\n",
      "['25', '52', '-1', '113']\n",
      "['25', '-1', '5', '1']\n",
      "['25', '-1', '5', '11']\n",
      "['25', '-1', '5', '111']\n",
      "['25', '-1', '51', '1']\n",
      "['25', '-1', '51', '11']\n",
      "['25', '-1', '51', '113']\n",
      "['25', '-1', '-1', '1']\n",
      "['25', '-1', '-1', '13']\n",
      "['25', '-1', '-1', '135']\n",
      "['255', '2', '5', '5']\n",
      "['255', '2', '5', '51']\n",
      "['255', '2', '5', '-1']\n",
      "['255', '2', '55', '1']\n",
      "['255', '2', '55', '11']\n",
      "['255', '2', '55', '111']\n",
      "['255', '2', '-1', '1']\n",
      "['255', '2', '-1', '11']\n",
      "['255', '2', '-1', '113']\n",
      "['255', '25', '5', '1']\n",
      "['255', '25', '5', '11']\n",
      "['255', '25', '5', '111']\n",
      "['255', '25', '51', '1']\n",
      "['255', '25', '51', '11']\n",
      "['255', '25', '51', '113']\n",
      "['255', '25', '-1', '1']\n",
      "['255', '25', '-1', '13']\n",
      "['255', '25', '-1', '135']\n",
      "['255', '255', '1', '1']\n",
      "['255', '255', '1', '11']\n",
      "['255', '255', '1', '113']\n",
      "['255', '255', '11', '1']\n",
      "['255', '255', '11', '13']\n",
      "['255', '255', '11', '135']\n",
      "['255', '255', '111', '3']\n",
      "['255', '255', '111', '35']\n",
      "['255', '255', '111', '35']\n"
     ]
    },
    {
     "data": {
      "text/plain": [
       "['255.255.11.135', '255.255.111.35', '255.255.111.35']"
      ]
     },
     "execution_count": 122,
     "metadata": {},
     "output_type": "execute_result"
    }
   ],
   "source": [
    "def fun(ip):\n",
    "    return \".\".join(ip)\n",
    "\n",
    "sorted(([fun(ip) for ip in valid_ip_address(\"25525511135\")]), key=lambda x: x, reverse=False)"
   ]
  },
  {
   "cell_type": "code",
   "execution_count": null,
   "metadata": {},
   "outputs": [],
   "source": []
  },
  {
   "cell_type": "code",
   "execution_count": 125,
   "metadata": {},
   "outputs": [],
   "source": [
    "def solve(A):\n",
    "    A = A.strip()\n",
    "    A = A.split(\" \")\n",
    "    return [ item for item in A[::-1] if len(item) > 0]"
   ]
  },
  {
   "cell_type": "code",
   "execution_count": 138,
   "metadata": {},
   "outputs": [
    {
     "data": {
      "text/plain": [
       "['sky.', 'a', 'is', 'this']"
      ]
     },
     "execution_count": 138,
     "metadata": {},
     "output_type": "execute_result"
    }
   ],
   "source": [
    "solve(\"   this is    a sky.   \")"
   ]
  },
  {
   "cell_type": "code",
   "execution_count": 155,
   "metadata": {},
   "outputs": [],
   "source": [
    "def romanToInt(A):\n",
    "    romanToIntDict = {\"I\" : 1, \"V\" : 5, \"X\" : 10, \"L\" : 50, \"C\" : 100, \"D\" : 500, \"M\" : 1000}\n",
    "    \n",
    "    if len(A) == 0: return \"\"\n",
    "    \n",
    "    result = romanToIntDict.get(A[0])\n",
    "    previous = A[0]\n",
    "    for index, char in zip(range(1, len(A)), A[1:]):\n",
    "        if romanToIntDict.get(previous) < romanToIntDict.get(char):\n",
    "            result = (result + romanToIntDict.get(char) - (2 * romanToIntDict.get(previous)))\n",
    "        else:\n",
    "            result += romanToIntDict.get(char)\n",
    "        previous = char\n",
    "    return result"
   ]
  },
  {
   "cell_type": "code",
   "execution_count": 160,
   "metadata": {},
   "outputs": [
    {
     "name": "stdout",
     "output_type": "stream",
     "text": [
      "2020\n",
      "3876\n"
     ]
    }
   ],
   "source": [
    "romanToInt(\"MMMCMXCIX\")\n",
    "romanToInt(\"MDCCLXXVI\")\n",
    "romanToInt(\"MCMLIV\")\n",
    "print (romanToInt(\"MMXX\"))\n",
    "print (romanToInt(\"MMMDCCCLXXVI\"))"
   ]
  },
  {
   "cell_type": "code",
   "execution_count": 185,
   "metadata": {},
   "outputs": [],
   "source": [
    "def digit4(digit):\n",
    "    return int(digit) * \"M\"\n",
    "    \n",
    "def digit3(digit):\n",
    "    digit = int(digit)\n",
    "    if digit == 9: return \"CM\"\n",
    "    \n",
    "    digit = digit * 100\n",
    "    if digit > 500:\n",
    "        return \"D\" + (\"C\" * int((digit - 500) / 100))\n",
    "    elif digit == 500:\n",
    "        return \"D\"\n",
    "    elif digit == 400:\n",
    "        return \"CD\"\n",
    "    else: return (\"C\" * int((digit) / 100))\n",
    "    \n",
    "def digit2(digit):\n",
    "    digit = int(digit)\n",
    "    if digit == 9: return \"XC\"\n",
    "    \n",
    "    digit = digit * 10\n",
    "    if digit > 50:\n",
    "        return \"L\" + (\"X\" * int((digit - 50) / 10))\n",
    "    elif digit == 50:\n",
    "        return \"L\"\n",
    "    elif digit == 40:\n",
    "        return \"XL\"\n",
    "    else: return (\"X\" * int((digit) / 10))\n",
    "    \n",
    "def digit1(digit):\n",
    "    digit = int(digit)\n",
    "    if digit == 9: return \"IX\"\n",
    "    \n",
    "    digit = digit * 1\n",
    "    if digit > 5:\n",
    "        return \"V\" + (\"I\" * int((digit - 5) / 1))\n",
    "    elif digit == 5:\n",
    "        return \"V\"\n",
    "    elif digit == 4:\n",
    "        return \"IV\"\n",
    "    else: return (\"I\" * int((digit) / 1))\n",
    "\n",
    "def intToRoman(A):\n",
    "    romanToIntDict = {1 : \"I\", 5: \"V\", 10 : \"X\", 50 : \"L\", 100 : \"C\", 500 : \"D\", 1000 : \"M\"}\n",
    "    \n",
    "    if A == 0: return 0\n",
    "    \n",
    "    A = str(A)\n",
    "    if len(str(A)) == 4: return digit4(A[0]) + digit3(A[1]) + digit2(A[2]) + digit1(A[3])\n",
    "    if len(str(A)) == 3: return digit3(A[0]) + digit2(A[1]) + digit1(A[2])\n",
    "    if len(str(A)) == 2: return digit2(A[0]) + digit1(A[1])\n",
    "    return digit1(A[0])"
   ]
  },
  {
   "cell_type": "code",
   "execution_count": 189,
   "metadata": {},
   "outputs": [
    {
     "data": {
      "text/plain": [
       "'DCCLXXXIX'"
      ]
     },
     "execution_count": 189,
     "metadata": {},
     "output_type": "execute_result"
    }
   ],
   "source": [
    "intToRoman(3999)\n",
    "intToRoman(1776)\n",
    "intToRoman(1954)\n",
    "intToRoman(160)\n",
    "intToRoman(39)\n",
    "intToRoman(789)"
   ]
  },
  {
   "cell_type": "code",
   "execution_count": null,
   "metadata": {},
   "outputs": [],
   "source": []
  }
 ],
 "metadata": {
  "kernelspec": {
   "display_name": "Python 3",
   "language": "python",
   "name": "python3"
  },
  "language_info": {
   "codemirror_mode": {
    "name": "ipython",
    "version": 3
   },
   "file_extension": ".py",
   "mimetype": "text/x-python",
   "name": "python",
   "nbconvert_exporter": "python",
   "pygments_lexer": "ipython3",
   "version": "3.7.4"
  }
 },
 "nbformat": 4,
 "nbformat_minor": 2
}
