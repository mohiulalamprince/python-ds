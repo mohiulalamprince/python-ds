{
 "cells": [
  {
   "cell_type": "code",
   "execution_count": 34,
   "metadata": {},
   "outputs": [],
   "source": [
    "class Solution:\n",
    "    # @param A : list of integers\n",
    "    # @return a list of list of integers\n",
    "    result = []\n",
    "    A = []\n",
    "    N = 0\n",
    "    visit = {}\n",
    "    vis = []\n",
    "    \n",
    "    def permute(self, A):\n",
    "        self.result = []\n",
    "        self.A = []\n",
    "        self.N = 0\n",
    "        self.visit = {}\n",
    "        self.N = len(A)\n",
    "        \n",
    "        self.vis = [False] * self.N\n",
    "        \n",
    "        self.A = sorted(A, key=lambda x:x, reverse=False)\n",
    "        self.A = [str(x) for x in A]\n",
    "        self.dfs(0, 0, [], \"\")\n",
    "        return self.result\n",
    "        \n",
    "    def dfs(self, index, dep, copy, strPer):\n",
    "        if dep == self.N and self.visit.get(strPer) != True: \n",
    "            self.visit[strPer] = True\n",
    "            self.result.append(copy[:])\n",
    "            return\n",
    "        if dep >= self.N: return\n",
    "        \n",
    "        for i in range(0, len(self.A)):\n",
    "            if self.vis[i] == False:\n",
    "                self.vis[i] = True\n",
    "                self.dfs(i, dep + 1, copy + [self.A[i]], strPer + self.A[i])\n",
    "                self.vis[i] = False"
   ]
  },
  {
   "cell_type": "code",
   "execution_count": 36,
   "metadata": {},
   "outputs": [
    {
     "data": {
      "text/plain": [
       "[['3', '2', '1'],\n",
       " ['3', '1', '2'],\n",
       " ['2', '3', '1'],\n",
       " ['2', '1', '3'],\n",
       " ['1', '3', '2'],\n",
       " ['1', '2', '3']]"
      ]
     },
     "execution_count": 36,
     "metadata": {},
     "output_type": "execute_result"
    }
   ],
   "source": [
    "solution = Solution()\n",
    "solution.permute([3, 2, 1])"
   ]
  },
  {
   "cell_type": "code",
   "execution_count": null,
   "metadata": {},
   "outputs": [],
   "source": []
  }
 ],
 "metadata": {
  "kernelspec": {
   "display_name": "Python 3",
   "language": "python",
   "name": "python3"
  },
  "language_info": {
   "codemirror_mode": {
    "name": "ipython",
    "version": 3
   },
   "file_extension": ".py",
   "mimetype": "text/x-python",
   "name": "python",
   "nbconvert_exporter": "python",
   "pygments_lexer": "ipython3",
   "version": "3.7.6"
  }
 },
 "nbformat": 4,
 "nbformat_minor": 4
}
