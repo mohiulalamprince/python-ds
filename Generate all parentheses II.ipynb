{
 "cells": [
  {
   "cell_type": "code",
   "execution_count": 53,
   "metadata": {},
   "outputs": [],
   "source": [
    "class Solution:\n",
    "    # @param A : integer\n",
    "    # @return a list of strings\n",
    "    \n",
    "    result = []\n",
    "    N = 0\n",
    "    \n",
    "    def generateParenthesis(self, A):\n",
    "        self.result = []\n",
    "        self.N = 0\n",
    "        self.N = 2 * A\n",
    "        self.dfs(0, 0, [])\n",
    "        self.result = [ \"\".join(out) for out in self.result]\n",
    "        return sorted(self.result, key=lambda x:x, reverse=False)\n",
    "        \n",
    "    def dfs(self, index, opened, copy):\n",
    "        if index == self.N and opened == 0 and len(copy) == self.N:\n",
    "            self.result.append(copy[:])\n",
    "            return\n",
    "        elif index >= self.N: return\n",
    "        \n",
    "        if opened > 0:\n",
    "            copy.append(')')\n",
    "            self.dfs(index + 1, opened - 1, copy)\n",
    "            del copy[-1]\n",
    "        \n",
    "        copy.append('(')\n",
    "        self.dfs(index + 1, opened + 1, copy)\n",
    "        del copy[-1]"
   ]
  },
  {
   "cell_type": "code",
   "execution_count": 54,
   "metadata": {},
   "outputs": [
    {
     "data": {
      "text/plain": [
       "['(())', '()()']"
      ]
     },
     "execution_count": 54,
     "metadata": {},
     "output_type": "execute_result"
    }
   ],
   "source": [
    "solution = Solution()\n",
    "solution.generateParenthesis(2)"
   ]
  },
  {
   "cell_type": "code",
   "execution_count": null,
   "metadata": {},
   "outputs": [],
   "source": []
  }
 ],
 "metadata": {
  "kernelspec": {
   "display_name": "Python 3",
   "language": "python",
   "name": "python3"
  },
  "language_info": {
   "codemirror_mode": {
    "name": "ipython",
    "version": 3
   },
   "file_extension": ".py",
   "mimetype": "text/x-python",
   "name": "python",
   "nbconvert_exporter": "python",
   "pygments_lexer": "ipython3",
   "version": "3.7.4"
  }
 },
 "nbformat": 4,
 "nbformat_minor": 2
}
