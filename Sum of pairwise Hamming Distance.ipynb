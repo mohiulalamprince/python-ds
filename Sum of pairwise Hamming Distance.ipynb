{
 "cells": [
  {
   "cell_type": "code",
   "execution_count": 44,
   "metadata": {},
   "outputs": [],
   "source": [
    "x = 5"
   ]
  },
  {
   "cell_type": "code",
   "execution_count": 45,
   "metadata": {},
   "outputs": [
    {
     "name": "stdout",
     "output_type": "stream",
     "text": [
      "00000000000000000000000000000101\n"
     ]
    }
   ],
   "source": [
    "print (\"{:032b}\".format(x))"
   ]
  },
  {
   "cell_type": "code",
   "execution_count": 46,
   "metadata": {},
   "outputs": [
    {
     "name": "stdout",
     "output_type": "stream",
     "text": [
      "00000000000000000000000000000005\n"
     ]
    }
   ],
   "source": [
    "print (\"{:032x}\".format(x))"
   ]
  },
  {
   "cell_type": "code",
   "execution_count": 53,
   "metadata": {},
   "outputs": [],
   "source": [
    "def convert_binary(values):\n",
    "    l = []\n",
    "    for value in values:\n",
    "        l.append(\"{:032b}\".format(value))\n",
    "    return l"
   ]
  },
  {
   "cell_type": "code",
   "execution_count": 54,
   "metadata": {},
   "outputs": [],
   "source": [
    "values = [2, 4, 6]\n",
    "binaries = convert_binary(values)"
   ]
  },
  {
   "cell_type": "code",
   "execution_count": 56,
   "metadata": {},
   "outputs": [
    {
     "name": "stdout",
     "output_type": "stream",
     "text": [
      "('0', '0', '0')\n",
      "('0', '0', '0')\n",
      "('0', '0', '0')\n",
      "('0', '0', '0')\n",
      "('0', '0', '0')\n",
      "('0', '0', '0')\n",
      "('0', '0', '0')\n",
      "('0', '0', '0')\n",
      "('0', '0', '0')\n",
      "('0', '0', '0')\n",
      "('0', '0', '0')\n",
      "('0', '0', '0')\n",
      "('0', '0', '0')\n",
      "('0', '0', '0')\n",
      "('0', '0', '0')\n",
      "('0', '0', '0')\n",
      "('0', '0', '0')\n",
      "('0', '0', '0')\n",
      "('0', '0', '0')\n",
      "('0', '0', '0')\n",
      "('0', '0', '0')\n",
      "('0', '0', '0')\n",
      "('0', '0', '0')\n",
      "('0', '0', '0')\n",
      "('0', '0', '0')\n",
      "('0', '0', '0')\n",
      "('0', '0', '0')\n",
      "('0', '0', '0')\n",
      "('0', '0', '0')\n",
      "('0', '1', '1')\n",
      "('1', '0', '1')\n",
      "('0', '0', '0')\n"
     ]
    }
   ],
   "source": [
    "binaries_processed = list(zip(*binaries))\n",
    "\n",
    "for x in binaries_processed:\n",
    "    print (x)"
   ]
  },
  {
   "cell_type": "code",
   "execution_count": 57,
   "metadata": {},
   "outputs": [],
   "source": [
    "def solve(l):\n",
    "    c = 0\n",
    "    for i in l:\n",
    "        a=i.count('0')\n",
    "        b=i.count('1')\n",
    "        c+=(2*a*b)\n",
    "        print (a, b)\n",
    "    return (c%1000000007)"
   ]
  },
  {
   "cell_type": "code",
   "execution_count": 58,
   "metadata": {},
   "outputs": [
    {
     "name": "stdout",
     "output_type": "stream",
     "text": [
      "(3, 0)\n",
      "(3, 0)\n",
      "(3, 0)\n",
      "(3, 0)\n",
      "(3, 0)\n",
      "(3, 0)\n",
      "(3, 0)\n",
      "(3, 0)\n",
      "(3, 0)\n",
      "(3, 0)\n",
      "(3, 0)\n",
      "(3, 0)\n",
      "(3, 0)\n",
      "(3, 0)\n",
      "(3, 0)\n",
      "(3, 0)\n",
      "(3, 0)\n",
      "(3, 0)\n",
      "(3, 0)\n",
      "(3, 0)\n",
      "(3, 0)\n",
      "(3, 0)\n",
      "(3, 0)\n",
      "(3, 0)\n",
      "(3, 0)\n",
      "(3, 0)\n",
      "(3, 0)\n",
      "(3, 0)\n",
      "(3, 0)\n",
      "(1, 2)\n",
      "(1, 2)\n",
      "(3, 0)\n",
      "8\n"
     ]
    }
   ],
   "source": [
    "print (solve(binaries_processed))"
   ]
  },
  {
   "cell_type": "code",
   "execution_count": 59,
   "metadata": {},
   "outputs": [
    {
     "name": "stdout",
     "output_type": "stream",
     "text": [
      "[('0', '0', '0', '0', '0', '0', '0', '0', '0', '0', '0', '0', '0', '0', '0', '0', '0', '0', '0', '0', '0', '0', '0', '0', '0', '0', '0', '0', '0', '0', '1', '0'), ('0', '0', '0', '0', '0', '0', '0', '0', '0', '0', '0', '0', '0', '0', '0', '0', '0', '0', '0', '0', '0', '0', '0', '0', '0', '0', '0', '0', '0', '1', '0', '0'), ('0', '0', '0', '0', '0', '0', '0', '0', '0', '0', '0', '0', '0', '0', '0', '0', '0', '0', '0', '0', '0', '0', '0', '0', '0', '0', '0', '0', '0', '1', '1', '0')]\n"
     ]
    }
   ],
   "source": [
    "print list(zip(*binaries_processed))"
   ]
  },
  {
   "cell_type": "code",
   "execution_count": null,
   "metadata": {},
   "outputs": [],
   "source": []
  }
 ],
 "metadata": {
  "kernelspec": {
   "display_name": "Python 2",
   "language": "python",
   "name": "python2"
  },
  "language_info": {
   "codemirror_mode": {
    "name": "ipython",
    "version": 2
   },
   "file_extension": ".py",
   "mimetype": "text/x-python",
   "name": "python",
   "nbconvert_exporter": "python",
   "pygments_lexer": "ipython2",
   "version": "2.7.17"
  }
 },
 "nbformat": 4,
 "nbformat_minor": 2
}
