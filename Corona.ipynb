{
 "cells": [
  {
   "cell_type": "code",
   "execution_count": 3,
   "metadata": {},
   "outputs": [
    {
     "name": "stdout",
     "output_type": "stream",
     "text": [
      "1584300068.233641\t\t2020-03-15 20:21:08.239858\n",
      "\n"
     ]
    }
   ],
   "source": [
    "import pandas as pd\n",
    "import time\n",
    "from datetime import datetime\n",
    "\n",
    "url1 = \"https://www.worldometers.info/coronavirus/\"\n",
    "\n",
    "data1 = pd.read_html(url1)\n",
    "\n",
    "str_time = str(time.time()) \n",
    "    \n",
    "file_log_writer = open(\"/Users/prince/data/corona/\" + \"log.txt\", \"a\")\n",
    "file_writer = open(\"/Users/prince/data/corona/\" + str_time + \".prn\", \"w\")\n",
    "    \n",
    "file_writer.write(str(data1))\n",
    "file_writer.close()\n",
    "\n",
    "str_log = str_time + \"\\t\\t\" + str(datetime.now()) + \"\\n\"\n",
    "print (str_log)\n",
    "    \n",
    "file_log_writer.write(str_log)\n",
    "file_log_writer.close()"
   ]
  },
  {
   "cell_type": "code",
   "execution_count": 4,
   "metadata": {},
   "outputs": [
    {
     "data": {
      "text/plain": [
       "[           Country,Other  TotalCases NewCases  TotalDeaths  NewDeaths  \\\n",
       " 0                  China       80849      +25       3199.0       10.0   \n",
       " 1                  Italy       24747   +3,590       1809.0      368.0   \n",
       " 2                   Iran       13938   +1,209        724.0      113.0   \n",
       " 3               S. Korea        8162      +76         75.0        3.0   \n",
       " 4                  Spain        7798   +1,407        292.0       96.0   \n",
       " ..                   ...         ...      ...          ...        ...   \n",
       " 154             Eswatini           1      NaN          NaN        NaN   \n",
       " 155                 Togo           1      NaN          NaN        NaN   \n",
       " 156  U.S. Virgin Islands           1      NaN          NaN        NaN   \n",
       " 157           Uzbekistan           1       +1          NaN        NaN   \n",
       " 158               Total:      167759    11187       6456.0      633.0   \n",
       " \n",
       "      TotalRecovered  ActiveCases  Serious,Critical  Tot Cases/1M pop  \n",
       " 0           66931.0        10719            3226.0              56.2  \n",
       " 1            2335.0        20603            1672.0             409.3  \n",
       " 2            4590.0         8624               NaN             165.9  \n",
       " 3             834.0         7253              59.0             159.2  \n",
       " 4             517.0         6989             272.0             166.8  \n",
       " ..              ...          ...               ...               ...  \n",
       " 154             NaN            1               NaN               0.9  \n",
       " 155             NaN            1               NaN               0.1  \n",
       " 156             NaN            1               NaN               NaN  \n",
       " 157             NaN            1               NaN               NaN  \n",
       " 158         76598.0        84705            5811.0              21.5  \n",
       " \n",
       " [159 rows x 9 columns]]"
      ]
     },
     "execution_count": 4,
     "metadata": {},
     "output_type": "execute_result"
    }
   ],
   "source": [
    "data1"
   ]
  },
  {
   "cell_type": "code",
   "execution_count": 9,
   "metadata": {},
   "outputs": [],
   "source": [
    "df1 = data1[0]\n",
    "df1.to_csv(path_or_buf='output.txt', sep=',')"
   ]
  },
  {
   "cell_type": "code",
   "execution_count": null,
   "metadata": {},
   "outputs": [],
   "source": []
  }
 ],
 "metadata": {
  "kernelspec": {
   "display_name": "Python 3",
   "language": "python",
   "name": "python3"
  },
  "language_info": {
   "codemirror_mode": {
    "name": "ipython",
    "version": 3
   },
   "file_extension": ".py",
   "mimetype": "text/x-python",
   "name": "python",
   "nbconvert_exporter": "python",
   "pygments_lexer": "ipython3",
   "version": "3.7.6"
  }
 },
 "nbformat": 4,
 "nbformat_minor": 4
}
