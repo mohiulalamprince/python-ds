{
 "cells": [
  {
   "cell_type": "code",
   "execution_count": 19,
   "metadata": {},
   "outputs": [
    {
     "name": "stdout",
     "output_type": "stream",
     "text": [
      "Big Int\n"
     ]
    }
   ],
   "source": [
    "print (\"Big Int\")"
   ]
  },
  {
   "cell_type": "code",
   "execution_count": 18,
   "metadata": {},
   "outputs": [
    {
     "name": "stdout",
     "output_type": "stream",
     "text": [
      "46912\n"
     ]
    }
   ],
   "source": [
    "a = \"1234\"\n",
    "b = \"45678\"\n",
    "\n",
    "if len(a) > len(b):\n",
    "    b = (len(a) - len(b)) * \"0\" + b\n",
    "else:\n",
    "    a = (len(b) - len(a)) * \"0\" + a\n",
    "    \n",
    "a = a[::-1]\n",
    "b = b[::-1]\n",
    "\n",
    "carry = 0\n",
    "sum = []\n",
    "for c1, c2 in zip(a, b):\n",
    "    x = ord(c1)- 48 + ord(c2) - 48\n",
    "    sum.append(int(carry) + (x % 10))\n",
    "    carry = x / 10\n",
    "if carry == 1:\n",
    "    sum.append(1)\n",
    "    \n",
    "sum = sum[::-1]\n",
    "print (\"\".join(map(str, sum)))"
   ]
  },
  {
   "cell_type": "code",
   "execution_count": null,
   "metadata": {},
   "outputs": [],
   "source": [
    "print (\"Jump Gate II\")"
   ]
  },
  {
   "cell_type": "code",
   "execution_count": 21,
   "metadata": {},
   "outputs": [
    {
     "name": "stdout",
     "output_type": "stream",
     "text": [
      "2\n"
     ]
    }
   ],
   "source": [
    "# 2 3 1 1 4\n",
    "\n",
    "def jump(nums):\n",
    "    if len(nums) == 1: return 0\n",
    "    \n",
    "    previous_max = nums[0]\n",
    "    next_max = nums[0]\n",
    "    jump = 1\n",
    "    \n",
    "    for i in range(1, len(nums)):        \n",
    "        if previous_max < i:\n",
    "            jump += 1\n",
    "            previous_max = next_max\n",
    "        next_max = max(next_max, nums[i] + i)\n",
    "    return jump\n",
    "\n",
    "print (jump([2, 3, 1, 1, 4]))"
   ]
  },
  {
   "cell_type": "code",
   "execution_count": null,
   "metadata": {},
   "outputs": [],
   "source": []
  }
 ],
 "metadata": {
  "kernelspec": {
   "display_name": "Python 3",
   "language": "python",
   "name": "python3"
  },
  "language_info": {
   "codemirror_mode": {
    "name": "ipython",
    "version": 3
   },
   "file_extension": ".py",
   "mimetype": "text/x-python",
   "name": "python",
   "nbconvert_exporter": "python",
   "pygments_lexer": "ipython3",
   "version": "3.7.6"
  }
 },
 "nbformat": 4,
 "nbformat_minor": 4
}
