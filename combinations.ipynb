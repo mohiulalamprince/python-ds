{
 "cells": [
  {
   "cell_type": "code",
   "execution_count": 32,
   "metadata": {},
   "outputs": [],
   "source": [
    "class Solution:\n",
    "    # @param A : integer\n",
    "    # @param B : integer\n",
    "    # @return a list of list of integers\n",
    "    result = []\n",
    "    target = 0\n",
    "    A = []\n",
    "    N = 0\n",
    "    visit = {}\n",
    "    \n",
    "    def combine(self, A, B):\n",
    "        if A < B: B = A\n",
    "        self.visit = {}\n",
    "        self.N = A\n",
    "        self.target = B\n",
    "        self.A = list([str(x) for x in range(1, A + 1)])\n",
    "        self.dfs(0, 0, [])\n",
    "        return self.result\n",
    "        \n",
    "    def dfs(self, index, dep, copy):\n",
    "        if dep == self.target and self.visit.get(\"\".join(copy)) != True:\n",
    "            concat_str = \"\".join(copy)\n",
    "            self.visit[concat_str] = True\n",
    "            self.result.append(copy[:])\n",
    "            return\n",
    "        \n",
    "        for i in range(index, self.N):\n",
    "            self.dfs(i + 1, dep + 1, copy + [self.A[i]])\n",
    "            self.dfs(i + 1, dep, copy)"
   ]
  },
  {
   "cell_type": "code",
   "execution_count": 33,
   "metadata": {},
   "outputs": [
    {
     "data": {
      "text/plain": [
       "[['1']]"
      ]
     },
     "execution_count": 33,
     "metadata": {},
     "output_type": "execute_result"
    }
   ],
   "source": [
    "solution = Solution()\n",
    "solution.combine(1, 4)"
   ]
  },
  {
   "cell_type": "code",
   "execution_count": null,
   "metadata": {},
   "outputs": [],
   "source": []
  },
  {
   "cell_type": "code",
   "execution_count": null,
   "metadata": {},
   "outputs": [],
   "source": []
  }
 ],
 "metadata": {
  "kernelspec": {
   "display_name": "Python 3",
   "language": "python",
   "name": "python3"
  },
  "language_info": {
   "codemirror_mode": {
    "name": "ipython",
    "version": 3
   },
   "file_extension": ".py",
   "mimetype": "text/x-python",
   "name": "python",
   "nbconvert_exporter": "python",
   "pygments_lexer": "ipython3",
   "version": "3.7.4"
  }
 },
 "nbformat": 4,
 "nbformat_minor": 2
}
