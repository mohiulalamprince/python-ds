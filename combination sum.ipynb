{
 "cells": [
  {
   "cell_type": "code",
   "execution_count": 113,
   "metadata": {},
   "outputs": [],
   "source": [
    "result = []\n",
    "A = []\n",
    "target = 0\n",
    "N = 0\n",
    "visit = [False] * N\n",
    "\n",
    "def dfs(index, sum, copy):  \n",
    "    if target == sum:\n",
    "        result.append(copy[:])\n",
    "        return \n",
    "    if index >= N: return \n",
    "    \n",
    "    copy.append(A[index])\n",
    "    \n",
    "    if sum + A[index] <= target:\n",
    "        dfs(index, sum + A[index], copy)\n",
    "    dfs(index + 1, sum + A[index], copy)\n",
    "    del copy[-1]\n",
    "    dfs(index + 1, sum, copy)"
   ]
  },
  {
   "cell_type": "code",
   "execution_count": 116,
   "metadata": {},
   "outputs": [],
   "source": [
    "A = [2, 3, 6, 7]\n",
    "N = len(A)\n",
    "target = 7\n",
    "\n",
    "sorted(A, key=lambda x: x, reverse=False)\n",
    "dfs(0, 0, [])"
   ]
  },
  {
   "cell_type": "code",
   "execution_count": 117,
   "metadata": {},
   "outputs": [
    {
     "data": {
      "text/plain": [
       "[[2, 2, 3],\n",
       " [2, 2, 3],\n",
       " [2, 2, 3],\n",
       " [2, 2, 3],\n",
       " [7],\n",
       " [7],\n",
       " [2, 2, 3],\n",
       " [2, 2, 3],\n",
       " [2, 2, 3],\n",
       " [2, 2, 3],\n",
       " [7],\n",
       " [7]]"
      ]
     },
     "execution_count": 117,
     "metadata": {},
     "output_type": "execute_result"
    }
   ],
   "source": [
    "result"
   ]
  },
  {
   "cell_type": "code",
   "execution_count": null,
   "metadata": {},
   "outputs": [],
   "source": []
  }
 ],
 "metadata": {
  "kernelspec": {
   "display_name": "Python 3",
   "language": "python",
   "name": "python3"
  },
  "language_info": {
   "codemirror_mode": {
    "name": "ipython",
    "version": 3
   },
   "file_extension": ".py",
   "mimetype": "text/x-python",
   "name": "python",
   "nbconvert_exporter": "python",
   "pygments_lexer": "ipython3",
   "version": "3.7.4"
  }
 },
 "nbformat": 4,
 "nbformat_minor": 2
}
