{
 "cells": [
  {
   "cell_type": "code",
   "execution_count": 59,
   "metadata": {},
   "outputs": [],
   "source": [
    "result = []\n",
    "A = []\n",
    "\n",
    "def dfs(index, dep, sum, copy, target, N):  \n",
    "    global result\n",
    "    if target == sum:\n",
    "        result.append(copy)\n",
    "        print (result)\n",
    "        return \n",
    "    if index >= N: return \n",
    "    \n",
    "    copy.append(A[index])\n",
    "    \n",
    "    dfs(index + 1, dep + 1, sum + A[index], copy, target, N)\n",
    "    del copy[-1]\n",
    "    dfs(index + 1, dep, sum, copy, target, N)"
   ]
  },
  {
   "cell_type": "code",
   "execution_count": 60,
   "metadata": {},
   "outputs": [
    {
     "name": "stdout",
     "output_type": "stream",
     "text": [
      "[[2, 5]]\n",
      "[[7], [7]]\n"
     ]
    }
   ],
   "source": [
    "A = [2, 5, 6, 7]\n",
    "dfs(0, 0, 0, [], 7, len(A))"
   ]
  },
  {
   "cell_type": "code",
   "execution_count": 61,
   "metadata": {},
   "outputs": [
    {
     "data": {
      "text/plain": [
       "[[], []]"
      ]
     },
     "execution_count": 61,
     "metadata": {},
     "output_type": "execute_result"
    }
   ],
   "source": [
    "result"
   ]
  },
  {
   "cell_type": "code",
   "execution_count": null,
   "metadata": {},
   "outputs": [],
   "source": []
  }
 ],
 "metadata": {
  "kernelspec": {
   "display_name": "Python 3",
   "language": "python",
   "name": "python3"
  },
  "language_info": {
   "codemirror_mode": {
    "name": "ipython",
    "version": 3
   },
   "file_extension": ".py",
   "mimetype": "text/x-python",
   "name": "python",
   "nbconvert_exporter": "python",
   "pygments_lexer": "ipython3",
   "version": "3.7.4"
  }
 },
 "nbformat": 4,
 "nbformat_minor": 2
}
