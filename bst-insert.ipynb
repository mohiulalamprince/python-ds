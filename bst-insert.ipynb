{
 "cells": [
  {
   "cell_type": "code",
   "execution_count": 2,
   "metadata": {},
   "outputs": [
    {
     "name": "stdout",
     "output_type": "stream",
     "text": [
      "17\n",
      "34\n",
      "46\n",
      "62\n",
      "80\n",
      "85\n",
      "88\n",
      "89\n",
      "94\n",
      "98\n"
     ]
    }
   ],
   "source": [
    "import random\n",
    "class Node:\n",
    "    def __init__(self, val):\n",
    "        self.data = val\n",
    "        self.Leftchild = self.Rightchild = None\n",
    "\n",
    "\n",
    "class Tree:\n",
    "\n",
    "    def insert(self,root, val):\n",
    "        if root is None:\n",
    "            root = Node(val)\n",
    "            return root\n",
    "        else:\n",
    "            if root.data <= val:\n",
    "                root.Rightchild = self.insert(root.Rightchild, val)\n",
    "            else:\n",
    "                root.Leftchild = self.insert(root.Leftchild, val)\n",
    "            return root\n",
    "\n",
    "    def inorder(self, root):\n",
    "        if root:\n",
    "            self.inorder(root.Leftchild)\n",
    "            print (root.data)\n",
    "            self.inorder(root.Rightchild)\n",
    "\n",
    "\n",
    "if __name__ == '__main__':\n",
    "    tree = Tree()\n",
    "    root = None\n",
    "    for i in range(10):\n",
    "        root = tree.insert(root, random.randint(0,100))\n",
    "    tree.inorder(root)"
   ]
  },
  {
   "cell_type": "code",
   "execution_count": null,
   "metadata": {},
   "outputs": [],
   "source": []
  }
 ],
 "metadata": {
  "kernelspec": {
   "display_name": "Python 3",
   "language": "python",
   "name": "python3"
  },
  "language_info": {
   "codemirror_mode": {
    "name": "ipython",
    "version": 3
   },
   "file_extension": ".py",
   "mimetype": "text/x-python",
   "name": "python",
   "nbconvert_exporter": "python",
   "pygments_lexer": "ipython3",
   "version": "3.7.4"
  }
 },
 "nbformat": 4,
 "nbformat_minor": 2
}
