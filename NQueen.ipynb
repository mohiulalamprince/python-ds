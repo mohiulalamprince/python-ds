{
 "cells": [
  {
   "cell_type": "code",
   "execution_count": 76,
   "metadata": {},
   "outputs": [],
   "source": [
    "class Solution:\n",
    "    result = []\n",
    "    board = []\n",
    "    left_diagonal = []\n",
    "    right_diagonal = []\n",
    "    row_col = []\n",
    "    N = 0\n",
    "    \n",
    "    def solveNQueens(self, A):\n",
    "        self.board = []\n",
    "        self.result = []\n",
    "        self.left_diagonal = [0] * 300\n",
    "        self.right_diagonal = [0] * 300\n",
    "        self.row_col = [0] * 300\n",
    "        self.N = A\n",
    "        self.board = []\n",
    "        for i in range(self.N):\n",
    "            x = []\n",
    "            for j in range(self.N):\n",
    "                x.append('.')\n",
    "            self.board.append(x)\n",
    "        \n",
    "        self.dfs(0)\n",
    "        return self.result\n",
    "        \n",
    "    def dfs(self, col):\n",
    "        if col >= self.N: \n",
    "            copy = [\" \".join([\"\".join(x) for x in self.board])]\n",
    "            self.result.append(copy[:])\n",
    "            return \n",
    "        \n",
    "        for row in range(self.N):\n",
    "            if self.left_diagonal[row - col - self.N-1] != 1 and self.right_diagonal[row + col] != 1 and self.row_col[row] != 1:\n",
    "                \n",
    "                self.left_diagonal[row - col - self.N-1] = self.right_diagonal[row + col] = self.row_col[row] = 1\n",
    "                self.board[row][col] = 'Q'\n",
    "                \n",
    "                self.dfs(col + 1)\n",
    "                \n",
    "                self.left_diagonal[row - col - self.N-1] = self.right_diagonal[row + col] = self.row_col[row] = 0\n",
    "                self.board[row][col] = '.'\n",
    "                    \n",
    "    def print(self):\n",
    "        for x in self.board:\n",
    "            print (x)"
   ]
  },
  {
   "cell_type": "code",
   "execution_count": 77,
   "metadata": {},
   "outputs": [
    {
     "data": {
      "text/plain": [
       "[['..Q. Q... ...Q .Q..'], ['.Q.. ...Q Q... ..Q.']]"
      ]
     },
     "execution_count": 77,
     "metadata": {},
     "output_type": "execute_result"
    }
   ],
   "source": [
    "solution = Solution()\n",
    "solution.solveNQueens(4)"
   ]
  },
  {
   "cell_type": "code",
   "execution_count": null,
   "metadata": {},
   "outputs": [],
   "source": [
    "[..Q. Q... ...Q .Q.. ] [.Q.. ...Q Q... ..Q. ] \n"
   ]
  }
 ],
 "metadata": {
  "kernelspec": {
   "display_name": "Python 3",
   "language": "python",
   "name": "python3"
  },
  "language_info": {
   "codemirror_mode": {
    "name": "ipython",
    "version": 3
   },
   "file_extension": ".py",
   "mimetype": "text/x-python",
   "name": "python",
   "nbconvert_exporter": "python",
   "pygments_lexer": "ipython3",
   "version": "3.7.6"
  }
 },
 "nbformat": 4,
 "nbformat_minor": 4
}
