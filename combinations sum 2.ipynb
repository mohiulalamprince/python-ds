{
 "cells": [
  {
   "cell_type": "code",
   "execution_count": 4,
   "metadata": {},
   "outputs": [],
   "source": [
    "class Solution:\n",
    "    # @param A : list of integers\n",
    "    # @param B : integer\n",
    "    # @return a list of list of integers\n",
    "    result = []\n",
    "    A = []\n",
    "    target = 0\n",
    "    N = 0\n",
    "    visit = {}\n",
    "    \n",
    "    def combinationSum(self, A, B):\n",
    "        self.result.clear()\n",
    "        self.visit.clear()\n",
    "        self.A = sorted(A, key=lambda x: x, reverse=False)\n",
    "        self.N = len(self.A)\n",
    "        self.target = B\n",
    "        self.dfs(0, 0, 0, [], \"\")\n",
    "        return self.result\n",
    "    \n",
    "    def dfs(self, index, dep, sum, copy, sumStr):\n",
    "        if self.visit.get(sumStr) == True: return\n",
    "    \n",
    "        if self.target == sum:\n",
    "            self.result.append(copy[:])\n",
    "            self.visit[sumStr] = True\n",
    "            return \n",
    "        if index >= self.N: return \n",
    "        \n",
    "        copy.append(self.A[index])\n",
    "        \n",
    "        if sum + self.A[index] <= self.target:\n",
    "            #self.dfs(index, dep + 1, sum + self.A[index], copy, sumStr + str(self.A[index]))\n",
    "            self.dfs(index + 1, dep + 1, sum + self.A[index], copy, sumStr + str(self.A[index]))\n",
    "        del copy[-1]\n",
    "        self.dfs(index + 1, dep, sum, copy, sumStr)"
   ]
  },
  {
   "cell_type": "code",
   "execution_count": 7,
   "metadata": {},
   "outputs": [],
   "source": [
    "solution = Solution()"
   ]
  },
  {
   "cell_type": "code",
   "execution_count": 8,
   "metadata": {},
   "outputs": [
    {
     "data": {
      "text/plain": [
       "[[1, 1, 6], [1, 2, 5], [1, 7], [2, 6]]"
      ]
     },
     "execution_count": 8,
     "metadata": {},
     "output_type": "execute_result"
    }
   ],
   "source": [
    "solution.combinationSum([10,1,2,7,6,1,5], 8)"
   ]
  },
  {
   "cell_type": "code",
   "execution_count": null,
   "metadata": {},
   "outputs": [],
   "source": []
  }
 ],
 "metadata": {
  "kernelspec": {
   "display_name": "Python 3",
   "language": "python",
   "name": "python3"
  },
  "language_info": {
   "codemirror_mode": {
    "name": "ipython",
    "version": 3
   },
   "file_extension": ".py",
   "mimetype": "text/x-python",
   "name": "python",
   "nbconvert_exporter": "python",
   "pygments_lexer": "ipython3",
   "version": "3.7.4"
  }
 },
 "nbformat": 4,
 "nbformat_minor": 2
}
