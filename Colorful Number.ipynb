{
 "cells": [
  {
   "cell_type": "code",
   "execution_count": 26,
   "metadata": {},
   "outputs": [],
   "source": [
    "class Solution:\n",
    "    def colorful(self, A):\n",
    "        A = str(A)\n",
    "        \n",
    "        visit = {}\n",
    "        broken_number = 0\n",
    "        for i in range(1, len(A) + 1):\n",
    "            for j in range(len(A)):\n",
    "                broken_number = self.product(A[j:j+i])\n",
    "                if len(A[j:j+i]) != (j+i - j): continue\n",
    "                if visit.get(broken_number) == True: return 0\n",
    "                visit[broken_number] = True\n",
    "        return 1\n",
    "    \n",
    "    def product(self, num):\n",
    "        prod = 1\n",
    "        for x in num:\n",
    "            prod = prod * int(x)\n",
    "        return prod"
   ]
  },
  {
   "cell_type": "code",
   "execution_count": 28,
   "metadata": {},
   "outputs": [
    {
     "data": {
      "text/plain": [
       "0"
      ]
     },
     "execution_count": 28,
     "metadata": {},
     "output_type": "execute_result"
    }
   ],
   "source": [
    "solution = Solution()\n",
    "solution.colorful(12)"
   ]
  },
  {
   "cell_type": "code",
   "execution_count": null,
   "metadata": {},
   "outputs": [],
   "source": []
  }
 ],
 "metadata": {
  "kernelspec": {
   "display_name": "Python 3",
   "language": "python",
   "name": "python3"
  },
  "language_info": {
   "codemirror_mode": {
    "name": "ipython",
    "version": 3
   },
   "file_extension": ".py",
   "mimetype": "text/x-python",
   "name": "python",
   "nbconvert_exporter": "python",
   "pygments_lexer": "ipython3",
   "version": "3.7.6"
  }
 },
 "nbformat": 4,
 "nbformat_minor": 4
}
